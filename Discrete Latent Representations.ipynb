{
 "cells": [
  {
   "cell_type": "code",
   "execution_count": 27,
   "id": "7092ce0c",
   "metadata": {},
   "outputs": [],
   "source": [
    "import torch\n",
    "import torch.nn as nn\n",
    "\n",
    "from torch.nn.functional import one_hot"
   ]
  },
  {
   "cell_type": "code",
   "execution_count": 28,
   "id": "615c0f1d",
   "metadata": {},
   "outputs": [],
   "source": [
    "class StraightThroughWrapper(nn.Module):\n",
    "    \"\"\"\n",
    "    Wrapper around any PyTorch module `transform` that takes a single tensor as input\n",
    "    to allow gradients passing through a discretization step\n",
    "    defined by `discretizer`.\n",
    "    \n",
    "    The idea is to apply `transform` to the discretized and non discretized\n",
    "    input. Then, we zero out the non discretized tensor by substracting the\n",
    "    same tensor but detached from the computation graph.\n",
    "    Thereby, gradients are backpropagated to the non discretized tensor\n",
    "    while the output looks as if coming only from the discretized tensor.\n",
    "    \"\"\"\n",
    "    def __init__(self, transform: nn.Module, discretizer: nn.Module):\n",
    "        super(StraightThroughWrapper, self).__init__()\n",
    "        self.transform = transform\n",
    "        self.discretizer = discretizer\n",
    "    \n",
    "    def forward(self, x):\n",
    "        x_discrete = self.discretizer(x)\n",
    "        \n",
    "        standard_transform = self.transform(x)\n",
    "        discrete_transform = self.transform(x_discrete)\n",
    "        \n",
    "        return standard_transform + discrete_transform - standard_transform.detach()"
   ]
  },
  {
   "cell_type": "code",
   "execution_count": 29,
   "id": "18b2242f",
   "metadata": {},
   "outputs": [],
   "source": [
    "class BinaryDiscretizer(nn.Module):\n",
    "    \"\"\"Binarises tensors with values in [0, 1] by rounding\"\"\"\n",
    "    def forward(self, x):\n",
    "        residuals = torch.where(x > 0.5, (x - 1.).detach(), x.detach())\n",
    "        return x - residuals"
   ]
  },
  {
   "cell_type": "code",
   "execution_count": 30,
   "id": "f4c2a5be",
   "metadata": {},
   "outputs": [],
   "source": [
    "class MultiDiscretizer(nn.Module):\n",
    "    \"\"\"\n",
    "    Maps every value in a tensor to one of a given set of possible values.\n",
    "    Every value is mapped to the closest of possible values.\n",
    "    \"\"\"\n",
    "    def __init__(self, num_values: int):\n",
    "        super(MultiDiscretizer, self).__init__()\n",
    "        self.num_values = num_values\n",
    "        \n",
    "        self.offsets = nn.Parameter(torch.randn(self.num_values))\n",
    "        self.alpha = nn.Parameter(torch.zeros(self.num_values))\n",
    "    \n",
    "    def forward(self, x):\n",
    "        val_distribution = x.unsqueeze(-1).expand((*x.shape, self.num_values))\n",
    "        val_distribution = -torch.pow(val_distribution - self.offsets, 2)\n",
    "        val_distribution = torch.exp(self.alpha) * val_distribution\n",
    "        val_distribution = torch.softmax(val_distribution, dim=-1)\n",
    "        \n",
    "        values_expanded = self.offsets.expand(val_distribution.shape)\n",
    "        values = (values_expanded * val_distribution).sum(dim=-1)\n",
    "        \n",
    "        val_distribution_discrete = one_hot(torch.argmax(val_distribution, dim=-1), self.num_values).bool()\n",
    "        discrete_residuals = torch.where(val_distribution_discrete, val_distribution-1, val_distribution)\n",
    "        val_distribution_discrete = val_distribution - discrete_residuals\n",
    "        values_discrete = (values_expanded * val_distribution_discrete).sum(dim=-1)\n",
    "        \n",
    "        return values + values_discrete - values.detach()"
   ]
  },
  {
   "cell_type": "markdown",
   "id": "30d08787",
   "metadata": {},
   "source": [
    "## Load Data"
   ]
  },
  {
   "cell_type": "markdown",
   "id": "fb76681f",
   "metadata": {},
   "source": [
    "We evaluate models on MNIST data"
   ]
  },
  {
   "cell_type": "code",
   "execution_count": 5,
   "id": "1b6dd67a",
   "metadata": {},
   "outputs": [],
   "source": [
    "import numpy as np\n",
    "\n",
    "from sklearn.datasets import fetch_openml\n",
    "from sklearn.preprocessing import StandardScaler\n",
    "from sklearn.model_selection import train_test_split"
   ]
  },
  {
   "cell_type": "code",
   "execution_count": 6,
   "id": "acaf7c51",
   "metadata": {},
   "outputs": [],
   "source": [
    "x, y = fetch_openml(\"mnist_784\", version=1, return_X_y=True, as_frame=False)\n",
    "x_train, x_test, y_train, y_test = train_test_split(\n",
    "    x, y, test_size=10000\n",
    ")\n",
    "\n",
    "scaler = StandardScaler()\n",
    "scaler.fit(x_train)\n",
    "x_train = scaler.transform(x_train)\n",
    "x_test = scaler.transform(x_test)\n",
    "\n",
    "y_train = np.array([int(label) for label in y_train.tolist()], dtype=np.int32)\n",
    "y_test = np.array([int(label) for label in y_test.tolist()], dtype=np.int32)"
   ]
  },
  {
   "cell_type": "markdown",
   "id": "de95385c",
   "metadata": {},
   "source": [
    "## Train Model"
   ]
  },
  {
   "cell_type": "code",
   "execution_count": 7,
   "id": "95475fa6",
   "metadata": {},
   "outputs": [],
   "source": [
    "from tqdm.auto import tqdm\n",
    "from torch.optim import AdamW\n",
    "from torch.utils.data import DataLoader\n",
    "from torch.utils.data import TensorDataset"
   ]
  },
  {
   "cell_type": "code",
   "execution_count": 21,
   "id": "9087227f",
   "metadata": {},
   "outputs": [],
   "source": [
    "num_labels = len(set(y_train.tolist()))\n",
    "hidden_size = 1024\n",
    "\n",
    "def train(model: nn.Module, epochs: int = 10):\n",
    "    model = model.cuda()\n",
    "    optimizer = AdamW(model.parameters())\n",
    "    criterion = nn.CrossEntropyLoss()\n",
    "    \n",
    "    dataset = TensorDataset(torch.from_numpy(x_train).float(), torch.from_numpy(y_train).long())\n",
    "    dataloader = DataLoader(dataset, shuffle=True, batch_size=32)\n",
    "    \n",
    "    step = 0\n",
    "    pbar = tqdm(desc=\"Progress\", total=epochs * len(dataloader))\n",
    "\n",
    "    for epoch in range(epochs):\n",
    "        for x_batch, y_batch in dataloader:\n",
    "            optimizer.zero_grad()\n",
    "            loss = criterion(model(x_batch.cuda()), y_batch.cuda())\n",
    "            loss.backward()\n",
    "            optimizer.step()\n",
    "        \n",
    "            step += 1\n",
    "            pbar.update(1)\n",
    "        \n",
    "            if step % 100 == 0:\n",
    "                pbar.set_postfix_str(f\"Loss: {loss.detach().cpu().item():.4f}\")\n",
    "        \n",
    "    pbar.close()\n",
    "    return model"
   ]
  },
  {
   "cell_type": "code",
   "execution_count": 22,
   "id": "7952a31c",
   "metadata": {},
   "outputs": [],
   "source": [
    "def inference(model: nn.Module):\n",
    "    model.eval()\n",
    "    \n",
    "    test_dataset = TensorDataset(torch.from_numpy(x_test).float(), torch.from_numpy(y_test).long())\n",
    "    test_dataloader = DataLoader(test_dataset, shuffle=False, batch_size=32)\n",
    "\n",
    "    y_pred = []\n",
    "\n",
    "    with torch.no_grad():\n",
    "        for x_batch, _ in tqdm(test_dataloader):\n",
    "            x_batch = x_batch.cuda()\n",
    "            y_pred_batch_scores = model(x_batch)\n",
    "            y_pred_batch = torch.argmax(y_pred_batch_scores, axis=1).cpu().tolist()\n",
    "            y_pred.extend(y_pred_batch)\n",
    "    \n",
    "    return y_pred"
   ]
  },
  {
   "cell_type": "markdown",
   "id": "8194f32c",
   "metadata": {},
   "source": [
    "### Test Non-Discrete Model"
   ]
  },
  {
   "cell_type": "code",
   "execution_count": 23,
   "id": "9383b074",
   "metadata": {},
   "outputs": [
    {
     "data": {
      "application/vnd.jupyter.widget-view+json": {
       "model_id": "11e9a0444a5c4bce98a8b8ba42ce3109",
       "version_major": 2,
       "version_minor": 0
      },
      "text/plain": [
       "Progress:   0%|          | 0/9375 [00:00<?, ?it/s]"
      ]
     },
     "metadata": {},
     "output_type": "display_data"
    },
    {
     "data": {
      "application/vnd.jupyter.widget-view+json": {
       "model_id": "47f7cba182c546a2a042f66d236e4fda",
       "version_major": 2,
       "version_minor": 0
      },
      "text/plain": [
       "  0%|          | 0/313 [00:00<?, ?it/s]"
      ]
     },
     "metadata": {},
     "output_type": "display_data"
    },
    {
     "name": "stdout",
     "output_type": "stream",
     "text": [
      "              precision    recall  f1-score   support\n",
      "\n",
      "           0       0.98      0.98      0.98       983\n",
      "           1       0.99      0.99      0.99      1148\n",
      "           2       0.96      0.98      0.97      1020\n",
      "           3       0.98      0.95      0.97      1044\n",
      "           4       0.97      0.97      0.97       983\n",
      "           5       0.95      0.96      0.96       873\n",
      "           6       0.98      0.98      0.98       955\n",
      "           7       0.94      0.99      0.96      1006\n",
      "           8       0.97      0.96      0.97      1006\n",
      "           9       0.98      0.94      0.96       982\n",
      "\n",
      "    accuracy                           0.97     10000\n",
      "   macro avg       0.97      0.97      0.97     10000\n",
      "weighted avg       0.97      0.97      0.97     10000\n",
      "\n"
     ]
    }
   ],
   "source": [
    "non_discrete_model = nn.Sequential(\n",
    "    nn.Linear(x_train.shape[1], hidden_size),\n",
    "    nn.Sigmoid(),\n",
    "    nn.Linear(hidden_size, hidden_size),\n",
    "    nn.Sigmoid(),\n",
    "    nn.Linear(hidden_size, num_labels),\n",
    ")\n",
    "\n",
    "non_discrete_model = train(non_discrete_model, epochs=5)\n",
    "y_pred = inference(non_discrete_model)\n",
    "\n",
    "print(classification_report(y_true=y_test.tolist(), y_pred=y_pred, zero_division=0.0))"
   ]
  },
  {
   "cell_type": "markdown",
   "id": "5e485da2",
   "metadata": {},
   "source": [
    "### Test Binary Discrete Model"
   ]
  },
  {
   "cell_type": "code",
   "execution_count": 24,
   "id": "f62f328c",
   "metadata": {},
   "outputs": [
    {
     "data": {
      "application/vnd.jupyter.widget-view+json": {
       "model_id": "c21b740510b746c497106e35e0627844",
       "version_major": 2,
       "version_minor": 0
      },
      "text/plain": [
       "Progress:   0%|          | 0/18750 [00:00<?, ?it/s]"
      ]
     },
     "metadata": {},
     "output_type": "display_data"
    },
    {
     "data": {
      "application/vnd.jupyter.widget-view+json": {
       "model_id": "22fffe4d85094d93b59e5f23ec920c1e",
       "version_major": 2,
       "version_minor": 0
      },
      "text/plain": [
       "  0%|          | 0/313 [00:00<?, ?it/s]"
      ]
     },
     "metadata": {},
     "output_type": "display_data"
    },
    {
     "name": "stdout",
     "output_type": "stream",
     "text": [
      "              precision    recall  f1-score   support\n",
      "\n",
      "           0       0.96      0.99      0.98       983\n",
      "           1       0.99      0.98      0.99      1148\n",
      "           2       0.96      0.98      0.97      1020\n",
      "           3       0.97      0.97      0.97      1044\n",
      "           4       0.98      0.97      0.97       983\n",
      "           5       0.95      0.97      0.96       873\n",
      "           6       0.98      0.99      0.98       955\n",
      "           7       0.97      0.98      0.97      1006\n",
      "           8       0.96      0.95      0.95      1006\n",
      "           9       0.97      0.94      0.96       982\n",
      "\n",
      "    accuracy                           0.97     10000\n",
      "   macro avg       0.97      0.97      0.97     10000\n",
      "weighted avg       0.97      0.97      0.97     10000\n",
      "\n"
     ]
    }
   ],
   "source": [
    "binary_discretizer = BinaryDiscretizer()\n",
    "binary_discrete_model = nn.Sequential(\n",
    "    nn.Linear(x_train.shape[1], hidden_size),\n",
    "    nn.Sigmoid(),\n",
    "    StraightThroughWrapper(nn.Linear(hidden_size, hidden_size), binary_discretizer),\n",
    "    nn.Sigmoid(),\n",
    "    StraightThroughWrapper(nn.Linear(hidden_size, num_labels), binary_discretizer),\n",
    ")\n",
    "\n",
    "binary_discrete_model = train(binary_discrete_model, epochs=10)\n",
    "y_pred = inference(binary_discrete_model)\n",
    "\n",
    "print(classification_report(y_true=y_test.tolist(), y_pred=y_pred, zero_division=0.0))"
   ]
  },
  {
   "cell_type": "markdown",
   "id": "a88b1e2f",
   "metadata": {},
   "source": [
    "### Test Multi-Discrete Model"
   ]
  },
  {
   "cell_type": "code",
   "execution_count": 31,
   "id": "e69e1956",
   "metadata": {},
   "outputs": [
    {
     "data": {
      "application/vnd.jupyter.widget-view+json": {
       "model_id": "2d92cb85ac3e4aabab2d0f75e455b55b",
       "version_major": 2,
       "version_minor": 0
      },
      "text/plain": [
       "Progress:   0%|          | 0/46875 [00:00<?, ?it/s]"
      ]
     },
     "metadata": {},
     "output_type": "display_data"
    },
    {
     "data": {
      "application/vnd.jupyter.widget-view+json": {
       "model_id": "d7ca69ce24c34ee793dd0a6ab0fb7acb",
       "version_major": 2,
       "version_minor": 0
      },
      "text/plain": [
       "  0%|          | 0/313 [00:00<?, ?it/s]"
      ]
     },
     "metadata": {},
     "output_type": "display_data"
    },
    {
     "name": "stdout",
     "output_type": "stream",
     "text": [
      "              precision    recall  f1-score   support\n",
      "\n",
      "           0       0.99      0.98      0.99       983\n",
      "           1       0.99      0.99      0.99      1148\n",
      "           2       0.96      0.97      0.97      1020\n",
      "           3       0.98      0.96      0.97      1044\n",
      "           4       0.98      0.97      0.97       983\n",
      "           5       0.95      0.97      0.96       873\n",
      "           6       0.97      0.99      0.98       955\n",
      "           7       0.95      0.98      0.96      1006\n",
      "           8       0.98      0.96      0.97      1006\n",
      "           9       0.97      0.95      0.96       982\n",
      "\n",
      "    accuracy                           0.97     10000\n",
      "   macro avg       0.97      0.97      0.97     10000\n",
      "weighted avg       0.97      0.97      0.97     10000\n",
      "\n"
     ]
    }
   ],
   "source": [
    "multi_discrete_model = nn.Sequential(\n",
    "    nn.Linear(x_train.shape[1], hidden_size),\n",
    "    nn.ReLU(),\n",
    "    StraightThroughWrapper(nn.Linear(hidden_size, hidden_size), MultiDiscretizer(num_values=10)),\n",
    "    nn.ReLU(),\n",
    "    StraightThroughWrapper(nn.Linear(hidden_size, num_labels), MultiDiscretizer(num_values=10)),\n",
    ")\n",
    "\n",
    "multi_discrete_model = train(multi_discrete_model, epochs=25)\n",
    "y_pred = inference(multi_discrete_model)\n",
    "\n",
    "print(classification_report(y_true=y_test.tolist(), y_pred=y_pred, zero_division=0.0))"
   ]
  },
  {
   "cell_type": "code",
   "execution_count": null,
   "id": "99d69907",
   "metadata": {},
   "outputs": [],
   "source": []
  }
 ],
 "metadata": {
  "kernelspec": {
   "display_name": "Python 3 (ipykernel)",
   "language": "python",
   "name": "python3"
  },
  "language_info": {
   "codemirror_mode": {
    "name": "ipython",
    "version": 3
   },
   "file_extension": ".py",
   "mimetype": "text/x-python",
   "name": "python",
   "nbconvert_exporter": "python",
   "pygments_lexer": "ipython3",
   "version": "3.9.12"
  }
 },
 "nbformat": 4,
 "nbformat_minor": 5
}
